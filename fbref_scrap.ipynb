{
 "cells": [
  {
   "cell_type": "code",
   "execution_count": 2,
   "id": "2520d764",
   "metadata": {},
   "outputs": [],
   "source": [
    "from selenium import webdriver\n",
    "from selenium.webdriver.chrome.service import Service\n",
    "from selenium.webdriver.chrome.options import Options\n",
    "from bs4 import BeautifulSoup\n",
    "import pandas as pd\n",
    "import re\n",
    "import time"
   ]
  },
  {
   "cell_type": "code",
   "execution_count": 3,
   "id": "836abdaf",
   "metadata": {},
   "outputs": [
    {
     "name": "stderr",
     "output_type": "stream",
     "text": [
      "C:\\Users\\shrey\\AppData\\Local\\Temp\\ipykernel_27508\\1693037785.py:13: FutureWarning: Passing literal html to 'read_html' is deprecated and will be removed in a future version. To read from a literal string, wrap it in a 'StringIO' object.\n",
      "  df = pd.read_html(str(table))[0]\n"
     ]
    },
    {
     "name": "stdout",
     "output_type": "stream",
     "text": [
      "(2968, 32)\n"
     ]
    }
   ],
   "source": [
    "\n",
    "options = Options()\n",
    "options.add_argument(\"--headless\")\n",
    "service = Service(executable_path=\"C:/chromedriver/chromedriver-win64/chromedriver.exe\")\n",
    "driver = webdriver.Chrome(service=service, options=options)\n",
    "\n",
    "driver.get(\"https://fbref.com/en/comps/Big5/possession/players/Big-5-European-Leagues-Stats\")\n",
    "time.sleep(5)  # Wait for the JS table to load\n",
    "\n",
    "soup = BeautifulSoup(driver.page_source, \"html.parser\")\n",
    "driver.quit()\n",
    "\n",
    "table = soup.find(\"table\", {\"id\": \"stats_possession\"}) #id extracted using inspect element\n",
    "df = pd.read_html(str(table))[0]\n",
    "\n",
    "print(df.shape)  # Expect around 2854 rows\n"
   ]
  },
  {
   "cell_type": "code",
   "execution_count": 4,
   "id": "2cde2f03",
   "metadata": {},
   "outputs": [
    {
     "name": "stderr",
     "output_type": "stream",
     "text": [
      "C:\\Users\\shrey\\AppData\\Local\\Temp\\ipykernel_27508\\2120155535.py:1: FutureWarning: Passing literal html to 'read_html' is deprecated and will be removed in a future version. To read from a literal string, wrap it in a 'StringIO' object.\n",
      "  df = pd.read_html(str(table), header=[0,1])[0]\n"
     ]
    }
   ],
   "source": [
    "\n",
    "df = pd.read_html(str(table), header=[0,1])[0]\n",
    "\n",
    "# Flatten MultiIndex columns\n",
    "df.columns = [' '.join(col).strip() for col in df.columns.values]\n",
    "\n",
    "# Remove repeated header rows if they exist\n",
    "if 'Rk' in df.columns:\n",
    "    df = df[df['Rk'] != 'Rk']\n",
    "\n",
    "df.reset_index(drop=True, inplace=True)\n"
   ]
  },
  {
   "cell_type": "code",
   "execution_count": 5,
   "id": "587bf614",
   "metadata": {},
   "outputs": [
    {
     "name": "stdout",
     "output_type": "stream",
     "text": [
      "Final cleaned data saved as 'fbref_possession_2024_25_cleaned.csv'\n"
     ]
    }
   ],
   "source": [
    "def clean_prefix(text):\n",
    "    if isinstance(text, str):\n",
    "        m = re.match(r'^([a-z]{2,3})\\s([A-Z]{3})(.*)$', text)\n",
    "        if m:\n",
    "            return m.group(2)\n",
    "        return re.sub(r'^[a-z]{2,3}\\s+', '', text)\n",
    "    return text\n",
    "\n",
    "columns_to_clean = ['Unnamed: 2_level_0 Nation', 'Unnamed: 5_level_0 Comp']\n",
    "\n",
    "for col in columns_to_clean:\n",
    "    df[col] = df[col].apply(clean_prefix)\n",
    "\n",
    "# Step 6: Drop 'Rk' and 'Matches' columns\n",
    "df.drop(columns=[\n",
    "    'Unnamed: 0_level_0 Rk',\n",
    "    'Unnamed: 31_level_0 Matches'\n",
    "], inplace=True)\n",
    "\n",
    "# Step 7: Rename columns to readable format also used as the header\n",
    "df.columns = [\n",
    "    \"PLAYER\", \"NATION\", \"POS\", \"SQUAD\", \"COMP\", \"AGE\", \"BORN\", \"NINETIES_PLAYED\",\n",
    "    \"TOUCHES\", \"TOUCHES_DEF_PEN\", \"TOUCHES_DEF_3RD\", \"TOUCHES_MID_3RD\", \"TOUCHES_ATT_3RD\", \"TOUCHES_ATT_PEN\", \"LIVE_TOUCHES\",\n",
    "    \"TAKE_ONS_ATT\", \"TAKE_ONS_SUCC\", \"TAKE_ONS_SUCC_PCT\", \"TAKE_ONS_TKLD\", \"TAKE_ONS_TKLD_PCT\",\n",
    "    \"CARRIES\", \"TOT_DIST\", \"PRG_DIST\", \"PRG_CARRIES\", \"CARRIES_FINAL_THIRD\", \"CARRIES_PEN_AREA\", \"MISCONTROL\", \"DISSPOSSESSED\",\n",
    "    \"PASSES_RECEIVED\", \"PRG_PASSES_RECEIVED\"\n",
    "]\n",
    "\n",
    "# Step 8: Save to cleaned CSV\n",
    "df.to_csv(\"fbref_possession_2024_25_cleaned.csv\", index=False)\n",
    "\n",
    "print(\"Final cleaned data saved as 'fbref_possession_2024_25_cleaned.csv'\")"
   ]
  },
  {
   "cell_type": "code",
   "execution_count": null,
   "id": "ef594ea4",
   "metadata": {},
   "outputs": [],
   "source": []
  }
 ],
 "metadata": {
  "kernelspec": {
   "display_name": "Python 3",
   "language": "python",
   "name": "python3"
  },
  "language_info": {
   "codemirror_mode": {
    "name": "ipython",
    "version": 3
   },
   "file_extension": ".py",
   "mimetype": "text/x-python",
   "name": "python",
   "nbconvert_exporter": "python",
   "pygments_lexer": "ipython3",
   "version": "3.13.4"
  }
 },
 "nbformat": 4,
 "nbformat_minor": 5
}
